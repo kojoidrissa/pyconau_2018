{
 "cells": [
  {
   "cell_type": "code",
   "execution_count": 1,
   "metadata": {
    "scrolled": true
   },
   "outputs": [
    {
     "name": "stdout",
     "output_type": "stream",
     "text": [
      "total 14976\r\n",
      "-rw-r--r--  1 kojoidrissa  staff      392 Aug 26 13:51 1_loading.py\r\n",
      "-rw-r--r--  1 kojoidrissa  staff      131 Aug 23 16:49 2_get_employee_list_for_loop.py\r\n",
      "-rw-r--r--  1 kojoidrissa  staff      159 Aug 23 05:46 2_get_employee_set_comprehension.py\r\n",
      "-rw-r--r--  1 kojoidrissa  staff      989 Aug 26 13:51 3_create_employee_dictionary.py\r\n",
      "-rw-r--r--  1 kojoidrissa  staff      936 Aug 26 13:51 4_create_output_spreadsheet.py\r\n",
      "-rw-r--r--  1 kojoidrissa  staff      387 Aug 26 13:51 5_write_data_to_workbook.py\r\n",
      "-rw-r--r--  1 kojoidrissa  staff      162 Aug 22 12:36 6_create_json_object.py\r\n",
      "-rw-r--r--  1 kojoidrissa  staff    14238 Aug 24 14:09 PyConAU_2018_spreadsheet.ipynb\r\n",
      "-rw-r--r--  1 kojoidrissa  staff     6495 Aug 22 14:21 aggregate_time.json\r\n",
      "-rw-r--r--@ 1 kojoidrissa  staff    53440 Aug 24 13:45 build_header.png\r\n",
      "-rw-r--r--@ 1 kojoidrissa  staff    95265 Aug 24 13:59 build_output_data.png\r\n",
      "-rw-r--r--@ 1 kojoidrissa  staff    56640 Aug 24 13:23 code_1-2.png\r\n",
      "-rw-r--r--@ 1 kojoidrissa  staff    54656 Aug 24 13:14 code_1.png\r\n",
      "-rw-r--r--@ 1 kojoidrissa  staff    41549 Aug 23 16:49 code_2.png\r\n",
      "-rw-r--r--@ 1 kojoidrissa  staff    60474 Aug 23 12:48 code_3-1.png\r\n",
      "-rw-r--r--@ 1 kojoidrissa  staff    91411 Aug 23 12:48 code_3-2.png\r\n",
      "-rw-r--r--@ 1 kojoidrissa  staff    54313 Aug 23 12:48 code_3-3.png\r\n",
      "-rw-r--r--@ 1 kojoidrissa  staff    48832 Aug 23 12:51 code_4-1.png\r\n",
      "-rw-r--r--@ 1 kojoidrissa  staff    69002 Aug 23 12:51 code_4-2.png\r\n",
      "-rw-r--r--@ 1 kojoidrissa  staff    18629 Aug 23 17:11 code_4-3-5.png\r\n",
      "-rw-r--r--@ 1 kojoidrissa  staff   119438 Aug 23 12:54 code_4-3.png\r\n",
      "-rw-r--r--@ 1 kojoidrissa  staff    75142 Aug 23 12:55 code_5-1.png\r\n",
      "-rw-r--r--@ 1 kojoidrissa  staff    33545 Aug 23 12:55 code_5-2.png\r\n",
      "-rw-r--r--@ 1 kojoidrissa  staff    41777 Aug 25 11:08 demo_workbook.xlsx\r\n",
      "-rw-r--r--@ 1 kojoidrissa  staff     7729 Aug 25 11:08 done_pyconau.xlsx\r\n",
      "-rw-r--r--@ 1 kojoidrissa  staff    47258 Aug 24 13:36 employee_hours.png\r\n",
      "-rw-r--r--@ 1 kojoidrissa  staff   166435 Aug 23 13:42 input_data.png\r\n",
      "-rw-r--r--@ 1 kojoidrissa  staff    33251 Aug 24 13:53 output_workbook.png\r\n",
      "-rw-r--r--@ 1 kojoidrissa  staff  1205047 Aug 12 14:54 pyconau_2018_first-timers.key\r\n",
      "-rw-r--r--@ 1 kojoidrissa  staff   658698 Aug 17 10:39 pyconau_2018_first-timers.pdf\r\n",
      "-rw-r--r--  1 kojoidrissa  staff       31 Aug 22 14:06 requirements.txt\r\n",
      "-rw-r--r--@ 1 kojoidrissa  staff    23160 Aug 24 14:09 save_workbook.png\r\n",
      "-rw-r--r--@ 1 kojoidrissa  staff  2013167 Aug 26 13:57 spreadsheets_pyconau_2018.key\r\n",
      "-rw-r--r--@ 1 kojoidrissa  staff   751734 Aug 26 13:57 spreadsheets_pyconau_2018.pdf\r\n"
     ]
    }
   ],
   "source": [
    "%ll"
   ]
  },
  {
   "cell_type": "code",
   "execution_count": 3,
   "metadata": {},
   "outputs": [],
   "source": [
    "# %load 1_loading.py\n",
    "import openpyxl\n",
    "\n",
    "# get workbook object; the data_only option captures the current value of any formulae\n",
    "# Your file should be in the same directory as this code, OR you need to provide the FULL path to that file, not just it's name\n",
    "demo_workbook = openpyxl.load_workbook('demo_workbook.xlsx', data_only= True)\n",
    "\n",
    "# WB -> WS -> Cell\n",
    "demo_worksheet = demo_workbook.get_sheet_by_name(\"clean_data\")"
   ]
  },
  {
   "cell_type": "code",
   "execution_count": 4,
   "metadata": {},
   "outputs": [
    {
     "data": {
      "text/plain": [
       "openpyxl.worksheet.worksheet.Worksheet"
      ]
     },
     "execution_count": 4,
     "metadata": {},
     "output_type": "execute_result"
    }
   ],
   "source": [
    "type(demo_worksheet)"
   ]
  },
  {
   "cell_type": "code",
   "execution_count": 11,
   "metadata": {},
   "outputs": [],
   "source": [
    "# %load 2_get_employee_list_for_loop.py\n",
    "employee_ids = set()\n",
    "for row in demo_worksheet.rows: \n",
    "    if row[0].value != 'employee_num':\n",
    "        employee_ids.add(row[0].value)"
   ]
  },
  {
   "cell_type": "code",
   "execution_count": 12,
   "metadata": {},
   "outputs": [
    {
     "data": {
      "text/plain": [
       "49"
      ]
     },
     "execution_count": 12,
     "metadata": {},
     "output_type": "execute_result"
    }
   ],
   "source": [
    "len(employee_ids)"
   ]
  },
  {
   "cell_type": "code",
   "execution_count": 13,
   "metadata": {},
   "outputs": [],
   "source": [
    "# %load 4_create_employee_dictionary.py\n",
    "# Create a dictionary of each employee and their info for the month\n",
    "# This is the slowest step\n",
    "\n",
    "employee_aggregate = {}\n",
    "for employee in employee_ids:\n",
    "    # list comprehension: I'll want to sum the hours later\n",
    "    hours = [\n",
    "        row[6].value\n",
    "        for row in demo_worksheet.rows\n",
    "        if employee == row[0].value\n",
    "    ]\n",
    "\n",
    "    # set comprehension: each employee should belong to only ONE cost center\n",
    "    cost_center = {row[1].value for row in demo_worksheet.rows if employee == row[0].value}\n",
    "    division = {str(row[2].value) for row in demo_worksheet.rows if employee == row[0].value}\n",
    "    manager = {row[3].value for row in demo_worksheet.rows if employee == row[0].value}\n",
    "    \n",
    "    assert len(cost_center) == len(division) == len(manager) == 1\n",
    "    \n",
    "    employee_aggregate[employee]={\n",
    "        \"hours\": sum(hours),\n",
    "        \"cost_center\": list(cost_center)[0],\n",
    "        \"division\": list(division)[0],\n",
    "        \"manager\": list(manager)[0]\n",
    "    }\n",
    "\n",
    "# Do I want to demonstrate using dict.update?"
   ]
  },
  {
   "cell_type": "code",
   "execution_count": 14,
   "metadata": {},
   "outputs": [
    {
     "data": {
      "text/plain": [
       "49"
      ]
     },
     "execution_count": 14,
     "metadata": {},
     "output_type": "execute_result"
    }
   ],
   "source": [
    "len(employee_aggregate)"
   ]
  },
  {
   "cell_type": "code",
   "execution_count": 16,
   "metadata": {},
   "outputs": [],
   "source": [
    "# %load 5_create_output_spreadsheet.py\n",
    "# Create output workbook, then output worksheet\n",
    "output_book = openpyxl.Workbook() #OpenPyXL object\n",
    "output_sheet = output_book.create_sheet(\"Aggregate Time\",0)\n",
    "\n",
    "# Building the Output Header: Specific Cell References\n",
    "header = [\n",
    "    demo_worksheet[\"A1\"].value,\n",
    "    demo_worksheet[\"B1\"].value,\n",
    "    demo_worksheet[\"C1\"].value,\n",
    "    demo_worksheet[\"D1\"].value,\n",
    "    demo_worksheet[\"G1\"].value\n",
    "]\n",
    "\n",
    "# Create output data construct & append header \n",
    "output_data = []\n",
    "output_data.append(header)\n",
    "\n",
    "# Building new rows, then appending them to output data construct\n",
    "for employee in employee_aggregate: #iterating over dictionary keys\n",
    "    new_row = []\n",
    "    new_row.append(employee)\n",
    "    new_row.append(employee_aggregate[employee]['cost_center'])\n",
    "    new_row.append(employee_aggregate[employee]['division'])\n",
    "    new_row.append(employee_aggregate[employee]['manager'])\n",
    "    new_row.append(employee_aggregate[employee]['hours'])\n",
    "    output_data.append(new_row)\n"
   ]
  },
  {
   "cell_type": "code",
   "execution_count": 17,
   "metadata": {},
   "outputs": [
    {
     "data": {
      "text/plain": [
       "openpyxl.workbook.workbook.Workbook"
      ]
     },
     "execution_count": 17,
     "metadata": {},
     "output_type": "execute_result"
    }
   ],
   "source": [
    "type(output_book)"
   ]
  },
  {
   "cell_type": "code",
   "execution_count": 19,
   "metadata": {},
   "outputs": [],
   "source": [
    "# %load 6_write_data_to_workbook.py\n",
    "# Write data to sheet object\n",
    "for row in output_data:\n",
    "    rowIn = output_data.index(row)\n",
    "    for col in range(len(output_data[0])):\n",
    "        # Adding 1 because spreadsheets count from 1, not 0\n",
    "        output_sheet.cell(row = rowIn+1, column = col+1).value = output_data[rowIn][col]\n",
    "\n",
    "# You don't have an actual spreadsheet until you do this\n",
    "output_book.save(\n",
    "    filename = \"done_pyconau.xlsx\"\n",
    ")"
   ]
  },
  {
   "cell_type": "code",
   "execution_count": 22,
   "metadata": {},
   "outputs": [
    {
     "name": "stdout",
     "output_type": "stream",
     "text": [
      "total 9808\r\n",
      "-rw-r--r--  1 kojoidrissa  staff      424 Aug 21 21:14 1_loading.py\r\n",
      "-rw-r--r--  1 kojoidrissa  staff      215 Aug 21 19:47 2_get_employee_list_for_loop.py\r\n",
      "-rw-r--r--  1 kojoidrissa  staff      135 Aug 21 19:42 3_get_employee_set_comprehension.py\r\n",
      "-rw-r--r--  1 kojoidrissa  staff      989 Aug 21 19:36 4_create_employee_dictionary.py\r\n",
      "-rw-r--r--  1 kojoidrissa  staff      936 Aug 21 21:19 5_create_output_spreadsheet.py\r\n",
      "-rw-r--r--  1 kojoidrissa  staff      387 Aug 21 21:20 6_write_data_to_workbook.py\r\n",
      "-rw-r--r--  1 kojoidrissa  staff      162 Aug 21 19:36 7_create_json_object.py\r\n",
      "-rw-r--r--  1 kojoidrissa  staff     8745 Aug 21 21:20 Untitled.ipynb\r\n",
      "-rw-r--r--  1 kojoidrissa  staff    41786 Aug 21 19:46 demo_workbook.xlsx\r\n",
      "-rw-r--r--  1 kojoidrissa  staff     6600 Aug 21 21:20 done_pycaribbean.xlsx\r\n",
      "-rw-r--r--  1 kojoidrissa  staff     6600 Aug 21 21:20 done_pyconau.xlsx\r\n",
      "-rw-r--r--@ 1 kojoidrissa  staff  1205047 Aug 11 21:54 pyconau_2018_first-timers.key\r\n",
      "-rw-r--r--@ 1 kojoidrissa  staff   658698 Aug 16 17:39 pyconau_2018_first-timers.pdf\r\n",
      "-rw-r--r--  1 kojoidrissa  staff       31 Aug 21 21:06 requirements.txt\r\n",
      "-rw-r--r--@ 1 kojoidrissa  staff  1909280 Aug 21 21:04 spreadsheets_pyconau_2018.key\r\n"
     ]
    }
   ],
   "source": [
    "%ll"
   ]
  },
  {
   "cell_type": "code",
   "execution_count": 24,
   "metadata": {},
   "outputs": [],
   "source": [
    "# %load 7_create_json_object.py\n",
    "# Yes, this import is normally done earlier\n",
    "import json\n",
    "with open(\"aggregate_time.json\", 'w') as f:\n",
    "    json.dump(employee_aggregate, f, sort_keys=True, indent=4)"
   ]
  },
  {
   "cell_type": "code",
   "execution_count": 25,
   "metadata": {},
   "outputs": [
    {
     "name": "stdout",
     "output_type": "stream",
     "text": [
      "total 9824\r\n",
      "-rw-r--r--  1 kojoidrissa  staff      424 Aug 21 21:14 1_loading.py\r\n",
      "-rw-r--r--  1 kojoidrissa  staff      215 Aug 21 19:47 2_get_employee_list_for_loop.py\r\n",
      "-rw-r--r--  1 kojoidrissa  staff      135 Aug 21 19:42 3_get_employee_set_comprehension.py\r\n",
      "-rw-r--r--  1 kojoidrissa  staff      989 Aug 21 19:36 4_create_employee_dictionary.py\r\n",
      "-rw-r--r--  1 kojoidrissa  staff      936 Aug 21 21:19 5_create_output_spreadsheet.py\r\n",
      "-rw-r--r--  1 kojoidrissa  staff      387 Aug 21 21:20 6_write_data_to_workbook.py\r\n",
      "-rw-r--r--  1 kojoidrissa  staff      162 Aug 21 19:36 7_create_json_object.py\r\n",
      "-rw-r--r--  1 kojoidrissa  staff     8745 Aug 21 21:20 Untitled.ipynb\r\n",
      "-rw-r--r--  1 kojoidrissa  staff     6495 Aug 21 21:21 aggregate_time.json\r\n",
      "-rw-r--r--  1 kojoidrissa  staff    41786 Aug 21 19:46 demo_workbook.xlsx\r\n",
      "-rw-r--r--  1 kojoidrissa  staff     6600 Aug 21 21:20 done_pycaribbean.xlsx\r\n",
      "-rw-r--r--  1 kojoidrissa  staff     6600 Aug 21 21:20 done_pyconau.xlsx\r\n",
      "-rw-r--r--@ 1 kojoidrissa  staff  1205047 Aug 11 21:54 pyconau_2018_first-timers.key\r\n",
      "-rw-r--r--@ 1 kojoidrissa  staff   658698 Aug 16 17:39 pyconau_2018_first-timers.pdf\r\n",
      "-rw-r--r--  1 kojoidrissa  staff       31 Aug 21 21:06 requirements.txt\r\n",
      "-rw-r--r--@ 1 kojoidrissa  staff  1909280 Aug 21 21:04 spreadsheets_pyconau_2018.key\r\n"
     ]
    }
   ],
   "source": [
    "%ll"
   ]
  },
  {
   "cell_type": "code",
   "execution_count": 26,
   "metadata": {},
   "outputs": [
    {
     "name": "stdout",
     "output_type": "stream",
     "text": [
      "total 9832\r\n",
      "-rw-r--r--  1 kojoidrissa  staff      424 Aug 21 21:14 1_loading.py\r\n",
      "-rw-r--r--  1 kojoidrissa  staff      215 Aug 21 19:47 2_get_employee_list_for_loop.py\r\n",
      "-rw-r--r--  1 kojoidrissa  staff      135 Aug 21 19:42 3_get_employee_set_comprehension.py\r\n",
      "-rw-r--r--  1 kojoidrissa  staff      989 Aug 21 19:36 4_create_employee_dictionary.py\r\n",
      "-rw-r--r--  1 kojoidrissa  staff      936 Aug 21 21:19 5_create_output_spreadsheet.py\r\n",
      "-rw-r--r--  1 kojoidrissa  staff      387 Aug 21 21:20 6_write_data_to_workbook.py\r\n",
      "-rw-r--r--  1 kojoidrissa  staff      162 Aug 21 19:36 7_create_json_object.py\r\n",
      "-rw-r--r--  1 kojoidrissa  staff    12458 Aug 21 21:22 PyConAU_2018_spreadsheet.ipynb\r\n",
      "-rw-r--r--  1 kojoidrissa  staff     6495 Aug 21 21:21 aggregate_time.json\r\n",
      "-rw-r--r--  1 kojoidrissa  staff    41786 Aug 21 19:46 demo_workbook.xlsx\r\n",
      "-rw-r--r--  1 kojoidrissa  staff     6600 Aug 21 21:20 done_pycaribbean.xlsx\r\n",
      "-rw-r--r--  1 kojoidrissa  staff     6600 Aug 21 21:20 done_pyconau.xlsx\r\n",
      "-rw-r--r--@ 1 kojoidrissa  staff  1205047 Aug 11 21:54 pyconau_2018_first-timers.key\r\n",
      "-rw-r--r--@ 1 kojoidrissa  staff   658698 Aug 16 17:39 pyconau_2018_first-timers.pdf\r\n",
      "-rw-r--r--  1 kojoidrissa  staff       31 Aug 21 21:06 requirements.txt\r\n",
      "-rw-r--r--@ 1 kojoidrissa  staff  1909280 Aug 21 21:04 spreadsheets_pyconau_2018.key\r\n"
     ]
    }
   ],
   "source": [
    "%ll"
   ]
  },
  {
   "cell_type": "code",
   "execution_count": null,
   "metadata": {},
   "outputs": [],
   "source": []
  }
 ],
 "metadata": {
  "kernelspec": {
   "display_name": "Python 3",
   "language": "python",
   "name": "python3"
  },
  "language_info": {
   "codemirror_mode": {
    "name": "ipython",
    "version": 3
   },
   "file_extension": ".py",
   "mimetype": "text/x-python",
   "name": "python",
   "nbconvert_exporter": "python",
   "pygments_lexer": "ipython3",
   "version": "3.6.5"
  }
 },
 "nbformat": 4,
 "nbformat_minor": 2
}
